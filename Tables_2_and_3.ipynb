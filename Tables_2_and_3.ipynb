{
 "cells": [
  {
   "cell_type": "markdown",
   "id": "303aae5c-f8d9-46a7-82b2-aa7e46b92abc",
   "metadata": {
    "tags": []
   },
   "source": [
    "## Table 2"
   ]
  },
  {
   "cell_type": "code",
   "execution_count": 1,
   "id": "6057110e-05f0-4a18-8119-de78013dc57a",
   "metadata": {
    "tags": []
   },
   "outputs": [
    {
     "name": "stdout",
     "output_type": "stream",
     "text": [
      "Aldehydes/Ketones |I      A     |µ      η     |µ−     µ+     η     |µ−     µ+     η−     η+    \n",
      "CH3COHCH3         | 18.55   5.74|-12.15  12.80|-15.35  -8.94   6.40|-14.90  -9.27   7.30   7.05\n",
      "ClCH2COHCH3       | 16.18   6.21|-11.19   9.96|-13.69  -8.70   4.98|-12.18  -9.60   7.98   6.78\n",
      "CH3CH2CH2CHOH     | 16.18   6.03|-11.10  10.15|-13.64  -8.57   5.07|-12.81  -9.45   6.74   6.84\n",
      "CH3CH2CHOH        | 17.33   6.07|-11.70  11.25|-14.52  -8.89   5.63|-13.67  -9.75   7.33   7.34\n",
      "CH3CHOH           | 19.43   6.31|-12.87  13.12|-16.15  -9.59   6.56|-15.51 -10.15   7.84   7.67\n",
      "Cl2CHCOHCH3       | 15.68   6.73|-11.20   8.95|-13.44  -8.97   4.47|-12.43  -9.89   6.49   6.33\n",
      "ClCH2COHCH2Cl     | 15.18   6.48|-10.83   8.71|-13.01  -8.65   4.35|-11.94  -9.79   6.49   6.63\n",
      "CH3CH2ClCHCHOH    | 15.79   6.35|-11.07   9.45|-13.43  -8.71   4.72|-12.78  -9.63   6.03   6.57\n",
      "ClCH2CHOH         | 17.20   6.72|-11.96  10.48|-14.58  -9.34   5.24|-13.11 -10.46   8.19   7.49\n",
      "CH2OH             | 21.41   7.29|-14.35  14.12|-17.88 -10.82   7.06|-16.61 -11.63   9.61   8.69\n",
      "Cl3CCHOH          | 16.02   7.43|-11.72   8.59|-13.87  -9.58   4.30|-12.96 -10.73   6.12   6.61\n",
      "H2O               | 12.55  -2.58| -4.99  15.13| -8.77  -1.20   7.57| -6.82  -0.28  11.47   5.71\n",
      "Alkenes\n",
      "CH2CH2            | 10.67  -2.40| -4.14  13.07| -7.40  -0.87   6.53| -6.71  -0.91   7.92   6.62\n",
      "MeCHCH2           |  9.74  -2.55| -3.60  12.28| -6.67  -0.53   6.14| -6.19  -0.57   7.09   6.24\n",
      "EtCHCH2           |  9.54  -2.43| -3.55  11.98| -6.55  -0.56   5.99| -6.16  -0.50   6.77   5.87\n",
      "nButCHCH2         |  9.47  -2.24| -3.61  11.71| -6.54  -0.69   5.85| -6.15  -0.51   6.62   5.50\n",
      "transMeCHCHMe     |  9.01  -2.68| -3.16  11.69| -6.09  -0.24   5.85| -5.74  -0.27   6.53   5.91\n",
      "cisMeCHCHMe       |  9.02  -2.55| -3.24  11.57| -6.13  -0.35   5.78| -5.74  -0.23   6.57   5.55\n",
      "cisEtCHCHEt       |  8.81  -1.97| -3.42  10.78| -6.12  -0.73   5.39| -5.78  -0.39   6.07   4.72\n",
      "transEtCHCHEt     |  8.80  -2.02| -3.39  10.82| -6.10  -0.69   5.41| -5.79  -0.40   6.03   4.84\n",
      "Me2CCHMe          |  9.19  -2.36| -3.42  11.55| -6.30  -0.53   5.77| -5.89  -0.44   6.61   5.61\n",
      "cPrCHCH2          |  9.01  -2.10| -3.46  11.11| -6.23  -0.68   5.56| -5.95  -0.70   6.13   5.61\n",
      "MeOCHCH2          |  8.96  -2.60| -3.18  11.56| -6.07  -0.29   5.78| -5.51  -0.27   6.90   5.74\n",
      "EtOCHCH2          |  8.81  -2.45| -3.18  11.26| -5.99  -0.36   5.63| -5.46  -0.22   6.71   5.34\n",
      "H3O               | 24.06   5.10|-14.58  18.96|-19.32  -9.84   9.48|-17.86  -8.18  12.41   6.15\n"
     ]
    }
   ],
   "source": [
    "from cdft import read\n",
    "from cdft import model\n",
    "\n",
    "from pathlib import Path\n",
    "\n",
    "imhere      = Path.cwd()\n",
    "\n",
    "cations     = imhere/\"outputs\"/\"cation\"\n",
    "neutrals    = imhere/\"outputs\"/\"neutral\"\n",
    "anions      = imhere/\"outputs\"/\"anion\"\n",
    "\n",
    "COH_set     = [ \"01_CH3COHCH3\",   \"02_ClCH2COHCH3\",   \"03_CH3CH2CH2CHOH\",  \"04_CH3CH2CHOH\", \"05_CH3CHOH\",\n",
    "                \"06_Cl2CHCOHCH3\", \"07_ClCH2COHCH2Cl\", \"08_CH3CH2ClCHCHOH\", \"09_ClCH2CHOH\",  \"10_CH2OH\",\n",
    "                \"11_Cl3CCHOH\" ]\n",
    "\n",
    "CO_set      = [ \"12_CH2CH2\",      \"13_MeCHCH2\",     \"14_EtCHCH2\",       \"15_nButCHCH2\", \"16_transMeCHCHMe\",\n",
    "                \"17_cisMeCHCHMe\", \"18_cisEtCHCHEt\", \"19_transEtCHCHEt\", \"20_Me2CCHMe\",  \"21_cPrCHCH2\",\n",
    "                \"22_MeOCHCH2\",    \"23_EtOCHCH2\" ]\n",
    "\n",
    "for idx, (reference, molecules) in enumerate( zip([\"00_H2O\", \"00_H3O\"],\n",
    "                                                  [COH_set,  CO_set  ]) ):\n",
    "    \n",
    "    if idx == 0:\n",
    "        print(f\"{'Aldehydes/Ketones':18s}\"\n",
    "              f\"|{'I':6s} {'A':6s}\"\n",
    "              f\"|{'µ':6s} {'η':6s}\"\n",
    "              f\"|{'µ−':6s} {'µ+':6s} {'η':6s}\"\n",
    "              f\"|{'µ−':6s} {'µ+':6s} {'η−':6s} {'η+':6s}\")\n",
    "    else:\n",
    "        print(f\"Alkenes\")\n",
    "    \n",
    "    for molecule in molecules + [reference]:\n",
    "        \n",
    "        cation  = read.nwchem( cations/f\"{molecule}.out\" )\n",
    "        neutral = read.nwchem( neutrals/f\"{molecule}.out\" )\n",
    "        anion   = read.nwchem( anions/f\"{molecule}.out\" )\n",
    "                \n",
    "        mu_1pm, eta_1pm                                        = model.one_parabola( cation=cation, neutral=neutral, anion=anion )\n",
    "        mu_minus_2pm, mu_plus_2pm, eta_2pm                     = model.two_parabola( cation=cation, neutral=neutral, anion=anion )\n",
    "        mu_minus_gqm, mu_plus_gqm, eta_minus_gqm, eta_plus_gqm = model.generalized(  cation=cation, neutral=neutral, anion=anion )\n",
    "        \n",
    "        print(f\"{molecule.partition('_')[2]:18s}\"\n",
    "              f\"|{cation.energy-neutral.energy:6.2f} {neutral.energy-anion.energy:6.2f}\"\n",
    "              f\"|{mu_1pm:6.2f} {eta_1pm:6.2f}\"\n",
    "              f\"|{mu_minus_2pm:6.2f} {mu_plus_2pm:6.2f} {eta_2pm:6.2f}\"\n",
    "              f\"|{mu_minus_gqm:6.2f} {mu_plus_gqm:6.2f} {eta_minus_gqm:6.2f} {eta_plus_gqm:6.2f}\")"
   ]
  },
  {
   "cell_type": "markdown",
   "id": "249c02f8-301f-4ae8-bef9-90340ba6ac65",
   "metadata": {},
   "source": [
    "## Table 3"
   ]
  },
  {
   "cell_type": "code",
   "execution_count": 2,
   "id": "22086a02-46b7-4772-9d32-7faafcb8a9b7",
   "metadata": {
    "tags": []
   },
   "outputs": [
    {
     "name": "stdout",
     "output_type": "stream",
     "text": [
      "Aldehydes/Ketones |∆N−    ∆N+   |∆N−    ∆N+   |∆N−    ∆N+   \n",
      "CH3COHCH3         |-0.122  0.378| 1.013  0.013| 1.124  0.132\n",
      "ClCH2COHCH3       |-0.126  0.374| 0.995 -0.005| 0.870  0.153\n",
      "CH3CH2CH2CHOH     |-0.129  0.371| 0.984 -0.016| 1.006  0.144\n",
      "CH3CH2CHOH        |-0.123  0.377| 1.009  0.009| 1.027  0.156\n",
      "CH3CHOH           |-0.111  0.389| 1.058  0.058| 1.124  0.174\n",
      "Cl2CHCOHCH3       |-0.121  0.379| 1.016  0.016| 0.996  0.173\n",
      "ClCH2COHCH2Cl     |-0.127  0.373| 0.990 -0.010| 0.956  0.164\n",
      "CH3CH2ClCHCHOH    |-0.126  0.374| 0.995 -0.005| 1.065  0.156\n",
      "ClCH2CHOH         |-0.114  0.386| 1.045  0.045| 0.923  0.192\n",
      "CH2OH             |-0.090  0.410| 1.140  0.140| 1.066  0.239\n",
      "Cl3CCHOH          |-0.108  0.392| 1.068  0.068| 1.072  0.217\n",
      "Alkenes\n",
      "CH2CH2            |-0.413  0.087|-0.152 -1.152|-0.104 -0.890\n",
      "MeCHCH2           |-0.426  0.074|-0.203 -1.203|-0.150 -0.927\n",
      "EtCHCH2           |-0.428  0.072|-0.213 -1.213|-0.156 -0.949\n",
      "nButCHCH2         |-0.429  0.071|-0.215 -1.215|-0.158 -0.968\n",
      "transMeCHCHMe     |-0.436  0.064|-0.245 -1.245|-0.192 -0.960\n",
      "cisMeCHCHMe       |-0.436  0.064|-0.243 -1.243|-0.192 -0.982\n",
      "cisEtCHCHEt       |-0.438  0.062|-0.250 -1.250|-0.196 -1.020\n",
      "transEtCHCHEt     |-0.438  0.062|-0.252 -1.252|-0.196 -1.012\n",
      "Me2CCHMe          |-0.433  0.067|-0.232 -1.232|-0.180 -0.966\n",
      "cPrCHCH2          |-0.435  0.065|-0.240 -1.240|-0.181 -0.952\n",
      "MeOCHCH2          |-0.437  0.063|-0.247 -1.247|-0.204 -0.969\n",
      "EtOCHCH2          |-0.439  0.061|-0.255 -1.255|-0.212 -0.993\n"
     ]
    }
   ],
   "source": [
    "from cdft import read\n",
    "from cdft import charge\n",
    "\n",
    "from pathlib import Path\n",
    "\n",
    "imhere      = Path.cwd()\n",
    "\n",
    "cations     = imhere/\"outputs\"/\"cation\"\n",
    "neutrals    = imhere/\"outputs\"/\"neutral\"\n",
    "anions      = imhere/\"outputs\"/\"anion\"\n",
    "\n",
    "COH_set     = [ \"01_CH3COHCH3\",   \"02_ClCH2COHCH3\",   \"03_CH3CH2CH2CHOH\",  \"04_CH3CH2CHOH\", \"05_CH3CHOH\",\n",
    "                \"06_Cl2CHCOHCH3\", \"07_ClCH2COHCH2Cl\", \"08_CH3CH2ClCHCHOH\", \"09_ClCH2CHOH\",  \"10_CH2OH\",\n",
    "                \"11_Cl3CCHOH\" ]\n",
    "\n",
    "CO_set      = [ \"12_CH2CH2\",      \"13_MeCHCH2\",     \"14_EtCHCH2\",       \"15_nButCHCH2\", \"16_transMeCHCHMe\",\n",
    "                \"17_cisMeCHCHMe\", \"18_cisEtCHCHEt\", \"19_transEtCHCHEt\", \"20_Me2CCHMe\",  \"21_cPrCHCH2\",\n",
    "                \"22_MeOCHCH2\",    \"23_EtOCHCH2\" ]\n",
    "\n",
    "for idx, (reference, molecules) in enumerate( zip([\"00_H2O\", \"00_H3O\"],\n",
    "                                                  [COH_set,  CO_set  ]) ):\n",
    "    \n",
    "    if idx == 0:\n",
    "        print(f\"{'Aldehydes/Ketones':18s}\"\n",
    "              f\"|{'∆N−':6s} {'∆N+':6s}\"\n",
    "              f\"|{'∆N−':6s} {'∆N+':6s}\"\n",
    "              f\"|{'∆N−':6s} {'∆N+':6s}\")\n",
    "    else:\n",
    "        print(f\"Alkenes\")\n",
    "        \n",
    "    ref_cation  = read.nwchem( cations/f\"{reference}.out\" )\n",
    "    ref_neutral = read.nwchem( neutrals/f\"{reference}.out\" )\n",
    "    ref_anion   = read.nwchem( anions/f\"{reference}.out\" )\n",
    "    \n",
    "    for molecule in molecules:\n",
    "        \n",
    "        cation  = read.nwchem( cations/f\"{molecule}.out\" )\n",
    "        neutral = read.nwchem( neutrals/f\"{molecule}.out\" )\n",
    "        anion   = read.nwchem( anions/f\"{molecule}.out\" )\n",
    "        \n",
    "        dnm_1pm, dnp_1pm = charge.one_parabola( cation=cation, neutral=neutral, anion=anion,\n",
    "                                  ref_cation=ref_cation, ref_neutral=ref_neutral, ref_anion=ref_anion )\n",
    "        dnm_2pm, dnp_2pm = charge.two_parabola( cation=cation, neutral=neutral, anion=anion,\n",
    "                                  ref_cation=ref_cation, ref_neutral=ref_neutral, ref_anion=ref_anion )\n",
    "        dnm_gqm, dnp_gqm = charge.generalized( cation=cation, neutral=neutral, anion=anion,\n",
    "                                  ref_cation=ref_cation, ref_neutral=ref_neutral, ref_anion=ref_anion )\n",
    "        \n",
    "        print(f\"{molecule.partition('_')[2]:18s}\"\n",
    "              f\"|{dnm_1pm:6.3f} {dnp_1pm:6.3f}\"\n",
    "              f\"|{dnm_2pm:6.3f} {dnp_2pm:6.3f}\"\n",
    "              f\"|{dnm_gqm:6.3f} {dnp_gqm:6.3f}\")"
   ]
  }
 ],
 "metadata": {
  "kernelspec": {
   "display_name": "base",
   "language": "python",
   "name": "python3"
  },
  "language_info": {
   "codemirror_mode": {
    "name": "ipython",
    "version": 3
   },
   "file_extension": ".py",
   "mimetype": "text/x-python",
   "name": "python",
   "nbconvert_exporter": "python",
   "pygments_lexer": "ipython3",
   "version": "3.11.13"
  }
 },
 "nbformat": 4,
 "nbformat_minor": 5
}
